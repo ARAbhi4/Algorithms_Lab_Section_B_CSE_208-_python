{
 "cells": [
  {
   "cell_type": "markdown",
   "metadata": {},
   "source": [
    "Write a program that will sum up the even number in a given input."
   ]
  },
  {
   "cell_type": "code",
   "execution_count": 1,
   "metadata": {},
   "outputs": [
    {
     "name": "stdout",
     "output_type": "stream",
     "text": [
      "Enter your number: 963852741\n",
      "Sum up the even number in a given input is 20.\n"
     ]
    }
   ],
   "source": [
    "number = input(\"Enter your number: \")\n",
    "\n",
    "t = 0\n",
    "\n",
    "for i in number:\n",
    "    z = int(i)\n",
    "    \n",
    "    y = z%2\n",
    "    \n",
    "    if y == 0:\n",
    "        t += z\n",
    "print(f\"Sum up the even number in a given input is {t}.\")"
   ]
  },
  {
   "cell_type": "markdown",
   "metadata": {},
   "source": [
    "Convenient way:"
   ]
  },
  {
   "cell_type": "code",
   "execution_count": 4,
   "metadata": {},
   "outputs": [
    {
     "name": "stdout",
     "output_type": "stream",
     "text": [
      "Enter your number: 963852741\n",
      "1\n",
      "4\n",
      "7\n",
      "2\n",
      "5\n",
      "8\n",
      "3\n",
      "6\n",
      "9\n",
      "Sum up the even number in a given input is 20\n"
     ]
    }
   ],
   "source": [
    "number = int(input(\"Enter your number: \"))\n",
    "\n",
    "k = 0\n",
    "\n",
    "while number > 0:\n",
    "    \n",
    "    z = number/10\n",
    "    y = number%10\n",
    "    print(y)\n",
    "    if (y%2 == 0):\n",
    "        k += y\n",
    "    number = int(z)\n",
    "print(f\"Sum up the even number in a given input is {k}\")    "
   ]
  },
  {
   "cell_type": "code",
   "execution_count": null,
   "metadata": {},
   "outputs": [],
   "source": []
  }
 ],
 "metadata": {
  "kernelspec": {
   "display_name": "Python 3",
   "language": "python",
   "name": "python3"
  },
  "language_info": {
   "codemirror_mode": {
    "name": "ipython",
    "version": 3
   },
   "file_extension": ".py",
   "mimetype": "text/x-python",
   "name": "python",
   "nbconvert_exporter": "python",
   "pygments_lexer": "ipython3",
   "version": "3.7.3"
  }
 },
 "nbformat": 4,
 "nbformat_minor": 2
}
