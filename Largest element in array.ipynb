{
 "cells": [
  {
   "cell_type": "markdown",
   "metadata": {},
   "source": [
    "Write a program that will find the third largest element in an array."
   ]
  },
  {
   "cell_type": "code",
   "execution_count": 2,
   "metadata": {},
   "outputs": [
    {
     "name": "stdout",
     "output_type": "stream",
     "text": [
      "Enter your number of element: 5\n",
      "Enter your 1 no. element: 4\n",
      "Enter your 2 no. element: 54\n",
      "Enter your 3 no. element: 5\n",
      "Enter your 4 no. element: 2\n",
      "Enter your 5 no. element: 2\n",
      "4 is the 3rd largest element in array.\n"
     ]
    }
   ],
   "source": [
    "while True:\n",
    "    number_of_element = int(input(\"Enter your number of element: \"))\n",
    "    if number_of_element >= 3:\n",
    "        break\n",
    "    else:\n",
    "        print(\"Enter 3 or more element.\")\n",
    "        continue\n",
    "\n",
    "array = []\n",
    "\n",
    "i = 1\n",
    "\n",
    "while i <= number_of_element:\n",
    "    z = int(input(f\"Enter your {i} no. element: \"))\n",
    "    array.append(z)\n",
    "    i = i + 1\n",
    "    \n",
    "array.sort()\n",
    "\n",
    "array.reverse()\n",
    "\n",
    "print(f\"{array[2]} is the 3rd largest element in array.\")\n",
    "    "
   ]
  },
  {
   "cell_type": "code",
   "execution_count": null,
   "metadata": {},
   "outputs": [],
   "source": []
  }
 ],
 "metadata": {
  "kernelspec": {
   "display_name": "Python 3",
   "language": "python",
   "name": "python3"
  },
  "language_info": {
   "codemirror_mode": {
    "name": "ipython",
    "version": 3
   },
   "file_extension": ".py",
   "mimetype": "text/x-python",
   "name": "python",
   "nbconvert_exporter": "python",
   "pygments_lexer": "ipython3",
   "version": "3.7.3"
  }
 },
 "nbformat": 4,
 "nbformat_minor": 2
}
