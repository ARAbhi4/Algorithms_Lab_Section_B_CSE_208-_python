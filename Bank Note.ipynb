{
 "cells": [
  {
   "cell_type": "markdown",
   "metadata": {},
   "source": [
    "Find minimum number of currency notes and values that sum to given amount\n",
    "\n",
    "\n",
    "Given an amount, find the minimum number of notes of different denominations that sum upto the given amount. Starting from the highest denomination note, try to accommodate as many notes possible for given amount.\n",
    "\n",
    "We may assume that we have infinite supply of notes of values {1000, 500, 100, 50, 20, 10, 5, 2, 1}\n",
    "\n",
    "Examples:\n",
    "\n",
    "Input : 800\n",
    "Output : Currency  Count \n",
    "         500 : 1\n",
    "         100 : 3\n",
    "\n",
    "Input : 2456\n",
    "Output : Currency  Count\n",
    "         1000 : 2\n",
    "         100 : 4\n",
    "         50 : 1\n",
    "         5 : 1\n",
    "         1 : 1"
   ]
  },
  {
   "cell_type": "code",
   "execution_count": 1,
   "metadata": {},
   "outputs": [
    {
     "name": "stdout",
     "output_type": "stream",
     "text": [
      "Enter your total taka: 2456\n",
      "1000 : 2\n",
      "500 : 0\n",
      "100 : 4\n",
      "50 : 1\n",
      "20 : 0\n",
      "10 : 0\n",
      "5 : 1\n",
      "2 : 0\n",
      "1 : 1\n"
     ]
    }
   ],
   "source": [
    "taka = int(input(\"Enter your total taka: \"))\n",
    "\n",
    "note_of_value = [1000,500,100,50,20,10,5,2,1]\n",
    "\n",
    "i = 0\n",
    "\n",
    "while taka > 0:\n",
    "    x = int(taka/note_of_value[i])\n",
    "    print(f\"{note_of_value[i]} : {x}\")\n",
    "    taka = taka%note_of_value[i]\n",
    "    i += 1\n",
    "\n",
    "    \n"
   ]
  }
 ],
 "metadata": {
  "kernelspec": {
   "display_name": "Python 3",
   "language": "python",
   "name": "python3"
  },
  "language_info": {
   "codemirror_mode": {
    "name": "ipython",
    "version": 3
   },
   "file_extension": ".py",
   "mimetype": "text/x-python",
   "name": "python",
   "nbconvert_exporter": "python",
   "pygments_lexer": "ipython3",
   "version": "3.7.3"
  }
 },
 "nbformat": 4,
 "nbformat_minor": 2
}
